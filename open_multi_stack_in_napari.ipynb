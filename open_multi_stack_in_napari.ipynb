{
 "cells": [
  {
   "cell_type": "markdown",
   "metadata": {},
   "source": [
    "# ImageJ to Napari \n",
    "\n",
    "This notebooks opens ImageJ, lets the user open an image in ImageJ and transfers the 5D-image to Napari."
   ]
  },
  {
   "cell_type": "markdown",
   "metadata": {},
   "source": [
    "Import the jpype stuff, that allows to access java from python and start the java virtual machine."
   ]
  },
  {
   "cell_type": "code",
   "execution_count": 1,
   "metadata": {},
   "outputs": [],
   "source": [
    "from jpype import *\n",
    "# Enable Java imports\n",
    "import jpype.imports\n",
    "# Pull in types\n",
    "from jpype.types import *\n",
    "import os\n",
    "os.chdir('/media/baecker/DONNEES1/programs/fiji-linux64/Fiji.app/')\n",
    "startJVM(\"/media/baecker/DONNEES1/programs/fiji-linux64/Fiji.app/java/linux-amd64/jdk1.8.0_172/jre/lib/amd64/server/libjvm.so\", \n",
    "         \"-ea\", \n",
    "         \"-Dpython.cachedir.skip=false\", \n",
    "         \"-Dplugins.dir=.\", \n",
    "         \"-Xmx19639m\",\n",
    "         \"-Djava.class.path=./jars/imagej-launcher-5.0.3.jar\",\n",
    "         \"-Dimagej.dir=.\",\n",
    "         \"-Dij.dir=.\",\n",
    "         \"-Dfiji.dir=.\",\n",
    "         \"-Dij.executable= \",\n",
    "        )"
   ]
  },
  {
   "cell_type": "markdown",
   "metadata": {},
   "source": [
    "Recursively add the jars in the jars and plugin-folders and their subfolders to the classpath."
   ]
  },
  {
   "cell_type": "code",
   "execution_count": 2,
   "metadata": {},
   "outputs": [],
   "source": [
    "from pathlib import Path\n",
    "\n",
    "for path in Path('./jars').rglob('*.jar'):\n",
    "    addClassPath(\"./\"+str(path))\n",
    "for path in Path('./plugins').rglob('*.jar'):\n",
    "    addClassPath(\"./\"+str(path))"
   ]
  },
  {
   "cell_type": "markdown",
   "metadata": {},
   "source": [
    "Start ImageJ2 and display the gui."
   ]
  },
  {
   "cell_type": "code",
   "execution_count": 3,
   "metadata": {},
   "outputs": [],
   "source": [
    "from net.imagej.launcher import ClassLauncher\n",
    "ClassLauncher.main((\"-ijjarpath\", \"jars\", \"-ijjarpath\", \"plugins\", \"net.imagej.Main\"))"
   ]
  },
  {
   "cell_type": "markdown",
   "metadata": {},
   "source": [
    "Get the current image from ImageJ and extract some meta-data."
   ]
  },
  {
   "cell_type": "code",
   "execution_count": null,
   "metadata": {},
   "outputs": [],
   "source": [
    "from ij import IJ, ImageJ\n",
    "#IJ.open(\"/media/baecker/DONNEES1/mri/in/spheroids/spheroid01-01.tif\")\n",
    "IJ.run(\"Mitosis (5D stack)\");\n",
    "# Comment the line above and open an image in ImageJ before executing this cell!\n",
    "image = IJ.getImage()\n",
    "cal = image.getCalibration()\n",
    "zFactor = cal.getZ(1) / cal.getX(1)\n",
    "title = image.getShortTitle()\n",
    "shift = 128\n",
    "bitDepth = image.getBitDepth() \n",
    "if bitDepth==16:\n",
    "    shift = 32768\n",
    "print(zFactor)"
   ]
  },
  {
   "cell_type": "markdown",
   "metadata": {},
   "source": [
    "Convert the image to a stack, so that it is possible to grab all voxels of all frames in one go."
   ]
  },
  {
   "cell_type": "code",
   "execution_count": null,
   "metadata": {},
   "outputs": [],
   "source": [
    "from ij.plugin import HyperStackConverter\n",
    "dims = list(image.getDimensions())\n",
    "print(dims)\n",
    "isHyperStack = image.isHyperStack()\n",
    "HyperStackConverter.toStack(image)\n",
    "stackDims = list(image.getDimensions())"
   ]
  },
  {
   "cell_type": "markdown",
   "metadata": {},
   "source": [
    "Grab all voxels and shift the values to compensate for the signed data-types."
   ]
  },
  {
   "cell_type": "code",
   "execution_count": null,
   "metadata": {},
   "outputs": [],
   "source": [
    "import numpy as np\n",
    "\n",
    "dim = stackDims[3]\n",
    "if stackDims[2]==1 and stackDims[3]==1 and stackDims[4]>1:\n",
    "    dim = dims[4]\n",
    "pixels = np.array(image.getStack().getVoxels(0,0,0, stackDims[0], stackDims[1], dim, [])) + shift"
   ]
  },
  {
   "cell_type": "markdown",
   "metadata": {},
   "source": [
    "If the stack was a hyperstack, transform it back in ImageJ"
   ]
  },
  {
   "cell_type": "code",
   "execution_count": null,
   "metadata": {},
   "outputs": [],
   "source": [
    "if isHyperStack:\n",
    "    image2 = HyperStackConverter.toHyperStack(image, dims[2], dims[3], dims[4], \"Composite\");\n",
    "    image.close()\n",
    "    image2.show()"
   ]
  },
  {
   "cell_type": "markdown",
   "metadata": {},
   "source": [
    "Shape the pixels back into the right form according to the dimensions of the hyperstack.\n",
    "Get each channel as a separate image, because we want to add them as layers to napari.\n",
    "Display the image in napari."
   ]
  },
  {
   "cell_type": "code",
   "execution_count": null,
   "metadata": {
    "scrolled": false
   },
   "outputs": [],
   "source": [
    "import napari\n",
    "viewer = napari.Viewer()\n",
    "viewer.theme = 'dark'\n",
    "colors = ['magenta', \"cyan\", \"yellow\", \"red\", \"green\", \"blue\"]\n",
    "for c in range(0, dims[2]):\n",
    "    viewer.add_image(pixels.reshape(dims[4], dims[3], dims[2], dims[1], dims[0])[:,:,c,:,:],\n",
    "                     name=\"C\"+str(c+1)+\"-\"+str(title),\n",
    "                     colormap=colors[c],\n",
    "                     blending='additive',\n",
    "                     scale=[zFactor,1,1])\n",
    "viewer.dims.ndisplay = 3\n",
    "viewer.show()"
   ]
  },
  {
   "cell_type": "markdown",
   "metadata": {},
   "source": [
    "Add the animation-plugin, that allows to create movies from key-frames."
   ]
  },
  {
   "cell_type": "code",
   "execution_count": null,
   "metadata": {},
   "outputs": [],
   "source": [
    "from napari_animation import AnimationWidget\n",
    "\n",
    "animation_widget = AnimationWidget(viewer)\n",
    "viewer.window.add_dock_widget(animation_widget, area='right')"
   ]
  },
  {
   "cell_type": "markdown",
   "metadata": {},
   "source": [
    "Reset napari's gui, in case I messed it up."
   ]
  },
  {
   "cell_type": "code",
   "execution_count": null,
   "metadata": {},
   "outputs": [],
   "source": [
    "from napari.utils.settings import SETTINGS\n",
    "SETTINGS.reset()"
   ]
  },
  {
   "cell_type": "markdown",
   "metadata": {},
   "source": [
    "Make a screenshot of the current view in napari and display it with matplotlib."
   ]
  },
  {
   "cell_type": "code",
   "execution_count": null,
   "metadata": {},
   "outputs": [],
   "source": [
    "import matplotlib.pyplot as plt\n",
    "plt.figure(figsize = (20,30))\n",
    "screenshot = viewer.screenshot(canvas_only=True)\n",
    "plt.imshow(screenshot)"
   ]
  },
  {
   "cell_type": "markdown",
   "metadata": {},
   "source": [
    "Replace the current image by the active image in ImageJ"
   ]
  },
  {
   "cell_type": "code",
   "execution_count": null,
   "metadata": {},
   "outputs": [],
   "source": [
    "for c in range(0, dims[2]):\n",
    "    viewer.layers.pop(0)\n",
    "image = IJ.getImage()\n",
    "cal = image.getCalibration()\n",
    "zFactor = cal.getZ(1) / cal.getX(1)\n",
    "title = image.getShortTitle()\n",
    "dims = list(image.getDimensions())\n",
    "print(dims)\n",
    "isHyperStack = image.isHyperStack()\n",
    "HyperStackConverter.toStack(image)\n",
    "stackDims = list(image.getDimensions())\n",
    "dim = stackDims[3]\n",
    "if stackDims[2]==1 and stackDims[3]==1 and stackDims[4]>1:\n",
    "    dim = dims[4]\n",
    "pixels = np.array(image.getStack().getVoxels(0,0,0, stackDims[0], stackDims[1], dim, [])) + shift\n",
    "if isHyperStack:\n",
    "    image2 = HyperStackConverter.toHyperStack(image, dims[2], dims[3], dims[4], \"Composite\");\n",
    "    image.close()\n",
    "    image2.show()\n",
    "for c in range(0, dims[2]):\n",
    "    viewer.add_image(pixels.reshape(dims[4], dims[3], dims[2], dims[1], dims[0])[:,:,c,:,:],\n",
    "                     name=\"C\"+str(c+1)+\"-\"+str(title),\n",
    "                     colormap=colors[c],\n",
    "                     blending='additive',\n",
    "                     scale=[zFactor,1,1])"
   ]
  },
  {
   "cell_type": "markdown",
   "metadata": {},
   "source": [
    "# Known problems:\n",
    "\n",
    "- kernel sometimes crashes, when an action in ImageJ is executed.\n",
    "- napari not opening when the image is big"
   ]
  }
 ],
 "metadata": {
  "kernelspec": {
   "display_name": "Python [default]",
   "language": "python",
   "name": "python3"
  },
  "language_info": {
   "codemirror_mode": {
    "name": "ipython",
    "version": 3
   },
   "file_extension": ".py",
   "mimetype": "text/x-python",
   "name": "python",
   "nbconvert_exporter": "python",
   "pygments_lexer": "ipython3",
   "version": "3.6.7"
  }
 },
 "nbformat": 4,
 "nbformat_minor": 2
}
